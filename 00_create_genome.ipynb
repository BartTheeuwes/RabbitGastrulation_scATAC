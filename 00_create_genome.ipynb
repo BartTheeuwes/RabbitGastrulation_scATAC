{
 "cells": [
  {
   "cell_type": "code",
   "execution_count": null,
   "id": "ca91f5f6-5fec-4512-9578-f8ea1e1bab29",
   "metadata": {},
   "outputs": [],
   "source": []
  },
  {
   "cell_type": "code",
   "execution_count": 2,
   "id": "075b76d6-d347-41c6-93c2-468e6d8ab581",
   "metadata": {},
   "outputs": [],
   "source": [
    "suppressPackageStartupMessages({\n",
    "    library(BSgenome)\n",
    "})\n",
    "\n",
    "outdir = '/rds/project/rds-SDzz0CATGms/users/bt392/04_Rabbit_ATAC_final'"
   ]
  },
  {
   "cell_type": "code",
   "execution_count": 16,
   "id": "347f2094-5302-4c4c-bfbb-9ba015e73918",
   "metadata": {},
   "outputs": [],
   "source": [
    "#seed_file <- \"/rds/project/rds-SDzz0CATGms/users/mlnt2/PhD_MT08_ATAC/BSgenome/BSgenome.Ocuniculus.NCBI.oryCun2-seed\"\n",
    "seed_file <-\"/rds/project/rds-SDzz0CATGms/users/bt392/04_Rabbit_ATAC_final/genome/BSgenome.Ocuniculus.NCBI.oryCun2-seed\""
   ]
  },
  {
   "cell_type": "code",
   "execution_count": 17,
   "id": "d2b2ef44-5b11-48f8-ba9d-6801b7de0f20",
   "metadata": {},
   "outputs": [
    {
     "name": "stdout",
     "output_type": "stream",
     "text": [
      "Package: BSgenome.Ocuniculus.NCBI.oryCun2\n",
      "Title: Full genome sequence for Oryctolagus cuniculus (oryCun2.0)\n",
      "Description: Full genome sequence for Oryctolagus cuniculus (Rabbit) as provided by UCSC (oryCun2, Oct. 2009, assembly accession GenBank: GCA_000003625.1) and stored in Biostrings objects.\n",
      "Version: 1.0.0\n",
      "organism: Oryctolagus cuniculus\n",
      "common_name: Rabbit\n",
      "genome: OryCun2.0\n",
      "provider: NCBI\n",
      "release_date: Oct. 2009\n",
      "source_url: https://www.ncbi.nlm.nih.gov/assembly/GCF_000003625.3\n",
      "organism_biocview: Oryctolagus_cuniculus\n",
      "BSgenomeObjname: Ocuniculus\n",
      "circ_seqs: character(0)\n",
      "seqs_srcdir: /rds/project/bg200/rds-bg200-hphi-gottgens/users/mlnt2/PhD_MT08_ATAC/BSgenome\n",
      "seqfile_name: oryCun2.2bit\n"
     ]
    }
   ],
   "source": [
    "cat(readLines(seed_file), sep=\"\\n\")"
   ]
  },
  {
   "cell_type": "code",
   "execution_count": 7,
   "id": "a3125a72-09e9-4e30-9498-431226e2f80a",
   "metadata": {},
   "outputs": [
    {
     "name": "stdout",
     "output_type": "stream",
     "text": [
      "Creating package in ./BSgenome.Ocuniculus.NCBI.oryCun2 \n",
      "Copying '/rds/project/bg200/rds-bg200-hphi-gottgens/users/mlnt2/PhD_MT08_ATAC/BSgenome//oryCun2.2bit' to './BSgenome.Ocuniculus.NCBI.oryCun2/inst/extdata/single_sequences.2bit' ... DONE\n"
     ]
    }
   ],
   "source": [
    "forgeBSgenomeDataPkg(seed_file)"
   ]
  },
  {
   "cell_type": "markdown",
   "id": "af41b0e2-e111-4f80-ac6d-a3cf64016f1f",
   "metadata": {},
   "source": [
    "##### Continue in Bash:\n",
    "Once forgeBSgenomeDataPkg is done, ignore the warnings (if any), quit R, and build the source package <br>\n",
    "(tarball) with<br>\n",
    "R CMD build <\\pkgdir> <br>\n",
    "where <\\pkgdir> is the path to the source tree of the package. = ./BSgenome.Ocuniculus.NCBI.oryCun2/<br>\n",
    "Then check the package with<br>\n",
    "R CMD check <\\tarball><br>\n",
    "where <\\tarball> is the path to the tarball produced by R CMD build.<br>\n",
    "Finally install the package with<br>\n",
    "R CMD INSTALL <\\tarball><br>\n",
    "and use it!<br>"
   ]
  },
  {
   "cell_type": "markdown",
   "id": "438241c3-7e85-407e-9648-fdb9ea9bc6bc",
   "metadata": {},
   "source": [
    "##### Continue in Bash:\n",
    "Once forgeBSgenomeDataPkg is done, ignore the warnings (if any), quit R, and build the source package <br>\n",
    "(tarball) with<br>\n",
    "R CMD build <\\pkgdir> <br>\n",
    "where <\\pkgdir> is the path to the source tree of the package. = ./BSgenome.Ocuniculus.NCBI.oryCun2/<br>\n",
    "'R CMD build /rds/project/rds-SDzz0CATGms/users/bt392/04_Rabbit_ATAC_final/genome/BSgenome.Ocuniculus.NCBI.oryCun2/'<br>\n",
    "Then check the package with<br>\n",
    "R CMD check <\\tarball><br>\n",
    "where <\\tarball> is the path to the tarball produced by R CMD build.<br>\n",
    "'R CMD check /rds/project/rds-SDzz0CATGms/users/bt392/04_Rabbit_ATAC_final/genome/BSgenome.Ocuniculus.NCBI.oryCun2/'<br>\n",
    "Finally install the package with<br>\n",
    "R CMD INSTALL <\\tarball><br>\n",
    "'R CMD INSTALL /rds/project/rds-SDzz0CATGms/users/bt392/04_Rabbit_ATAC_final/genome/BSgenome.Ocuniculus.NCBI.oryCun2/'<br>\n",
    "and use it!<br>"
   ]
  },
  {
   "cell_type": "code",
   "execution_count": null,
   "id": "c055a092-06d9-43ec-8a8a-918cada1fe94",
   "metadata": {},
   "outputs": [],
   "source": []
  }
 ],
 "metadata": {
  "kernelspec": {
   "display_name": "R",
   "language": "R",
   "name": "ir"
  },
  "language_info": {
   "codemirror_mode": "r",
   "file_extension": ".r",
   "mimetype": "text/x-r-source",
   "name": "R",
   "pygments_lexer": "r",
   "version": "4.2.2"
  }
 },
 "nbformat": 4,
 "nbformat_minor": 5
}
