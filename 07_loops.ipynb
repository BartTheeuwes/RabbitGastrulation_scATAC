{
 "cells": [
  {
   "cell_type": "code",
   "execution_count": 1,
   "id": "47a323df",
   "metadata": {},
   "outputs": [
    {
     "name": "stderr",
     "output_type": "stream",
     "text": [
      "Setting default number of Parallel threads to 1.\n",
      "\n",
      "Setting addArchRVerbose = FALSE\n",
      "\n",
      "Successfully loaded ArchRProject!\n",
      "\n",
      "\n",
      "                                                   / |\n",
      "                                                 /    \\\n",
      "            .                                  /      |.\n",
      "            \\\\\\                              /        |.\n",
      "              \\\\\\                          /           `|.\n",
      "                \\\\\\                      /              |.\n",
      "                  \\                    /                |\\\n",
      "                  \\\\#####\\           /                  ||\n",
      "                ==###########>      /                   ||\n",
      "                 \\\\##==......\\    /                     ||\n",
      "            ______ =       =|__ /__                     ||      \\\\\\\n",
      "        ,--' ,----`-,__ ___/'  --,-`-===================##========>\n",
      "       \\               '        ##_______ _____ ,--,__,=##,__   ///\n",
      "        ,    __==    ___,-,__,--'#'  ==='      `-'    | ##,-/\n",
      "        -,____,---'       \\\\####\\\\________________,--\\\\_##,/\n",
      "           ___      .______        ______  __    __  .______      \n",
      "          /   \\     |   _  \\      /      ||  |  |  | |   _  \\     \n",
      "         /  ^  \\    |  |_)  |    |  ,----'|  |__|  | |  |_)  |    \n",
      "        /  /_\\  \\   |      /     |  |     |   __   | |      /     \n",
      "       /  _____  \\  |  |\\  \\\\___ |  `----.|  |  |  | |  |\\  \\\\___.\n",
      "      /__/     \\__\\ | _| `._____| \\______||__|  |__| | _| `._____|\n",
      "    \n",
      "\n",
      "Setting default number of Parallel threads to 12.\n",
      "\n"
     ]
    }
   ],
   "source": [
    "source(here::here(\"settings.R\"))\n",
    "source(here::here(\"load_archr.R\"))\n",
    "\n",
    "# I/O\n",
    "io$outdir =  file.path(io$output.directory,\"Loops\")\n",
    "dir.create(io$outdir, showWarnings = FALSE)\n",
    "\n",
    "# args\n",
    "args = list()\n",
    "args$matrix = 'PeakMatrix'\n",
    "\n",
    "addArchRThreads(30)"
   ]
  },
  {
   "cell_type": "code",
   "execution_count": 9,
   "id": "5acbd250",
   "metadata": {},
   "outputs": [],
   "source": [
    "# Peak co-accessibility\n",
    "ArchRProject <- addCoAccessibility(\n",
    "    ArchRProj = ArchRProject,\n",
    "    reducedDims = args$matrix,\n",
    "    dimsToUse = 1:dim(getReducedDims(ArchRProject, args$matrix))[2]\n",
    ")\n",
    "\n",
    "cA <- getCoAccessibility(\n",
    "    ArchRProj = ArchRProject,\n",
    "    corCutOff = 0.5,\n",
    "    resolution = 1,\n",
    "    returnLoops = TRUE\n",
    ")\n",
    "\n",
    "saveRDS(cA, file.path(io$outdir, 'coAccessibility.rds'))"
   ]
  },
  {
   "cell_type": "code",
   "execution_count": 11,
   "id": "cc8999d5",
   "metadata": {},
   "outputs": [],
   "source": [
    "# Peak to gene linkage\n",
    "# default maxDist=250000, which is not realistic. set at 50k\n",
    "ArchRProject <- addPeak2GeneLinks(\n",
    "    ArchRProj = ArchRProject,\n",
    "    reducedDims = args$matrix,\n",
    "    useMatrix = paste0(\"GeneIntegrationMatrix_\", args$matrix),\n",
    "    dimsToUse = 1:dim(getReducedDims(ArchRProject, args$matrix))[2]\n",
    ")\n",
    "\n",
    "p2g <- getPeak2GeneLinks(\n",
    "    ArchRProj = ArchRProject,\n",
    "    corCutOff = 0.45,\n",
    "    resolution = 1,\n",
    "    returnLoops = TRUE\n",
    ")\n",
    "\n",
    "saveRDS(p2g, file.path(io$outdir, 'Peak2GeneLinks.rds'))"
   ]
  },
  {
   "cell_type": "code",
   "execution_count": 12,
   "id": "53d5aea0",
   "metadata": {},
   "outputs": [
    {
     "name": "stderr",
     "output_type": "stream",
     "text": [
      "Saving ArchRProject...\n",
      "\n",
      "Loading ArchRProject...\n",
      "\n",
      "Successfully loaded ArchRProject!\n",
      "\n",
      "\n",
      "                                                   / |\n",
      "                                                 /    \\\n",
      "            .                                  /      |.\n",
      "            \\\\\\                              /        |.\n",
      "              \\\\\\                          /           `|.\n",
      "                \\\\\\                      /              |.\n",
      "                  \\                    /                |\\\n",
      "                  \\\\#####\\           /                  ||\n",
      "                ==###########>      /                   ||\n",
      "                 \\\\##==......\\    /                     ||\n",
      "            ______ =       =|__ /__                     ||      \\\\\\\n",
      "        ,--' ,----`-,__ ___/'  --,-`-===================##========>\n",
      "       \\               '        ##_______ _____ ,--,__,=##,__   ///\n",
      "        ,    __==    ___,-,__,--'#'  ==='      `-'    | ##,-/\n",
      "        -,____,---'       \\\\####\\\\________________,--\\\\_##,/\n",
      "           ___      .______        ______  __    __  .______      \n",
      "          /   \\     |   _  \\      /      ||  |  |  | |   _  \\     \n",
      "         /  ^  \\    |  |_)  |    |  ,----'|  |__|  | |  |_)  |    \n",
      "        /  /_\\  \\   |      /     |  |     |   __   | |      /     \n",
      "       /  _____  \\  |  |\\  \\\\___ |  `----.|  |  |  | |  |\\  \\\\___.\n",
      "      /__/     \\__\\ | _| `._____| \\______||__|  |__| | _| `._____|\n",
      "    \n",
      "\n",
      "\n",
      "           ___      .______        ______  __    __  .______      \n",
      "          /   \\     |   _  \\      /      ||  |  |  | |   _  \\     \n",
      "         /  ^  \\    |  |_)  |    |  ,----'|  |__|  | |  |_)  |    \n",
      "        /  /_\\  \\   |      /     |  |     |   __   | |      /     \n",
      "       /  _____  \\  |  |\\  \\\\___ |  `----.|  |  |  | |  |\\  \\\\___.\n",
      "      /__/     \\__\\ | _| `._____| \\______||__|  |__| | _| `._____|\n",
      "    \n",
      "\n"
     ]
    },
    {
     "data": {
      "text/plain": [
       "class: ArchRProject \n",
       "outputDirectory: /rds/project/rds-SDzz0CATGms/users/bt392/04_Rabbit_ATAC_final/rerun/ArchR/Project \n",
       "samples(8): rabbit_BGRGP1 rabbit_BGRGP2 ... rabbit_BGRGP7 rabbit_BGRGP8\n",
       "sampleColData names(1): ArrowFiles\n",
       "cellColData names(28): sample Sample ... cell Clusters_PeakMatrix\n",
       "numberOfCells(1): 37157\n",
       "medianTSS(1): 3.605\n",
       "medianFrags(1): 34347"
      ]
     },
     "metadata": {},
     "output_type": "display_data"
    }
   ],
   "source": [
    "saveArchRProject(ArchRProj = ArchRProject)"
   ]
  },
  {
   "cell_type": "code",
   "execution_count": 19,
   "id": "cbc6676a",
   "metadata": {},
   "outputs": [
    {
     "name": "stderr",
     "output_type": "stream",
     "text": [
      "Setting default number of Parallel threads to 30.\n",
      "\n"
     ]
    },
    {
     "data": {
      "text/plain": [
       "DataFrame with 59557 rows and 6 columns\n",
       "        idxATAC    idxRNA Correlation         FDR  VarQATAC   VarQRNA\n",
       "      <integer> <integer>   <numeric>   <numeric> <numeric> <numeric>\n",
       "1             2         1    0.478966 4.16390e-29  0.955896  0.801204\n",
       "2             3         1    0.529981 1.90913e-36  0.836554  0.801204\n",
       "3             9         1    0.577570 1.60194e-44  0.354369  0.801204\n",
       "4            10         1    0.763387 3.68329e-94  0.914369  0.801204\n",
       "5            11         1    0.543024 1.57048e-38  0.921911  0.801204\n",
       "...         ...       ...         ...         ...       ...       ...\n",
       "59553    185486     21100    0.675986 3.15676e-66  0.966263  0.276893\n",
       "59554    185487     21100    0.533560 5.22347e-37  0.821611  0.276893\n",
       "59555    185489     21102    0.667526 4.95874e-64  0.496892  0.723344\n",
       "59556    185490     21102    0.560530 1.76949e-41  0.699153  0.723344\n",
       "59557    185491     21102    0.572053 1.61893e-43  0.427315  0.723344"
      ]
     },
     "metadata": {},
     "output_type": "display_data"
    }
   ],
   "source": [
    "# Save loops over 50k distance\n",
    "addArchRThreads(30)\n",
    "\n",
    "# Peak to gene linkage\n",
    "ArchRProject <- addPeak2GeneLinks(\n",
    "    ArchRProj = ArchRProject,\n",
    "    reducedDims = args$matrix,\n",
    "    useMatrix = paste0(\"GeneScoreMatrix\"),\n",
    "    dimsToUse = 1:dim(getReducedDims(ArchRProject, args$matrix))[2],\n",
    "    maxDist=50000\n",
    ")\n",
    "\n",
    "peak_gene_links = getPeak2GeneLinks(ArchRProject, returnLoops = FALSE,\n",
    "                                corCutOff = 0.45,\n",
    "                                FDRCutOff = 1e-04, # test with more stringent values\n",
    "                                varCutOffATAC = 0.25,\n",
    "                                varCutOffRNA = 0.25,)\n",
    "\n",
    "saveRDS(peak_gene_links, file.path(io$outdir, 'peak_gene_links.rds'))"
   ]
  },
  {
   "cell_type": "code",
   "execution_count": 20,
   "id": "7130b73c",
   "metadata": {},
   "outputs": [],
   "source": [
    "saveRDS(peak_gene_links, file.path(io$outdir, 'peak_gene_links.rds'))"
   ]
  }
 ],
 "metadata": {
  "kernelspec": {
   "display_name": "R",
   "language": "R",
   "name": "ir"
  },
  "language_info": {
   "codemirror_mode": "r",
   "file_extension": ".r",
   "mimetype": "text/x-r-source",
   "name": "R",
   "pygments_lexer": "r",
   "version": "4.1.1"
  }
 },
 "nbformat": 4,
 "nbformat_minor": 5
}
